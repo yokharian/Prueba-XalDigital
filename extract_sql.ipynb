{
 "cells": [
  {
   "cell_type": "code",
   "execution_count": 8,
   "outputs": [],
   "source": [
    "!pip install -r requirements.txt"
   ],
   "metadata": {
    "collapsed": false,
    "pycharm": {
     "name": "#%%\n"
    }
   }
  },
  {
   "cell_type": "code",
   "execution_count": 59,
   "outputs": [
    {
     "name": "stdout",
     "output_type": "stream",
     "text": [
      "success !\n"
     ]
    }
   ],
   "source": [
    "import pandas as pd\n",
    "from pandas import read_csv\n",
    "from pathlib import Path\n",
    "import sqlite3\n",
    "import os\n",
    "\n",
    "SQLITE_DB_FILE = 'my_data.db'\n",
    "\n",
    "if os.path.exists(SQLITE_DB_FILE):\n",
    "  os.remove(SQLITE_DB_FILE)\n",
    "\n",
    "Path(SQLITE_DB_FILE).touch()\n",
    "conn = sqlite3.connect('my_data.db')\n",
    "c = conn.cursor()\n",
    "\n",
    "# load every csv table contents\n",
    "tabla_de_aerolineas = read_csv(\"tabla_de_aerolineas.csv\")\n",
    "tabla_de_aeropuertos = read_csv(\"tabla_de_aeropuertos.csv\")\n",
    "tabla_de_movimientos = read_csv(\"tabla_de_movimientos.csv\")\n",
    "tabla_de_vuelos = read_csv(\"tabla_de_vuelos.csv\")\n",
    "\n",
    "# generate every sqlite table\n",
    "c.execute('''CREATE TABLE aerolineas (ID_AEROLINEA int, NOMBRE_AEROLINEA text)''')\n",
    "c.execute('''CREATE TABLE aeropuertos (ID_AEROPUERTO int, NOMBRE_AEROPUERTO text)''')\n",
    "c.execute('''CREATE TABLE movimientos (ID_MOVIMIENTO int, DESCRIPCION text)''')\n",
    "c.execute('''CREATE TABLE vuelos (ID_AEROLINEA int, ID_AEROPUERTO int, ID_MOVIMIENTO int, DIA text)''')\n",
    "\n",
    "# write the data to every sqlite table\n",
    "tabla_de_aerolineas.to_sql('aerolineas', conn, if_exists='append', index = False)\n",
    "tabla_de_aeropuertos.to_sql('aeropuertos', conn, if_exists='append', index = False)\n",
    "tabla_de_movimientos.to_sql('movimientos', conn, if_exists='append', index = False)\n",
    "tabla_de_vuelos.to_sql('vuelos', conn, if_exists='append', index = False)\n",
    "\n",
    "print('success !')"
   ],
   "metadata": {
    "collapsed": false,
    "pycharm": {
     "name": "#%%\n"
    }
   }
  },
  {
   "cell_type": "code",
   "execution_count": 49,
   "outputs": [
    {
     "data": {
      "text/plain": "   ID_AEROLINEA NOMBRE_AEROLINEA\n0             1          Volaris\n1             2          Aeromar\n2             3         Interjet\n3             4       Aeromexico",
      "text/html": "<div>\n<style scoped>\n    .dataframe tbody tr th:only-of-type {\n        vertical-align: middle;\n    }\n\n    .dataframe tbody tr th {\n        vertical-align: top;\n    }\n\n    .dataframe thead th {\n        text-align: right;\n    }\n</style>\n<table border=\"1\" class=\"dataframe\">\n  <thead>\n    <tr style=\"text-align: right;\">\n      <th></th>\n      <th>ID_AEROLINEA</th>\n      <th>NOMBRE_AEROLINEA</th>\n    </tr>\n  </thead>\n  <tbody>\n    <tr>\n      <th>0</th>\n      <td>1</td>\n      <td>Volaris</td>\n    </tr>\n    <tr>\n      <th>1</th>\n      <td>2</td>\n      <td>Aeromar</td>\n    </tr>\n    <tr>\n      <th>2</th>\n      <td>3</td>\n      <td>Interjet</td>\n    </tr>\n    <tr>\n      <th>3</th>\n      <td>4</td>\n      <td>Aeromexico</td>\n    </tr>\n  </tbody>\n</table>\n</div>"
     },
     "execution_count": 49,
     "metadata": {},
     "output_type": "execute_result"
    }
   ],
   "source": [
    "tabla_de_aerolineas"
   ],
   "metadata": {
    "collapsed": false,
    "pycharm": {
     "name": "#%%\n"
    }
   }
  },
  {
   "cell_type": "code",
   "execution_count": 50,
   "outputs": [
    {
     "data": {
      "text/plain": "   ID_AEROPUERTO NOMBRE_AEROPUERTO\n0              1     Benito Juarez\n1              2        Guanajuato\n2              3            La paz\n3              4            Oaxaca",
      "text/html": "<div>\n<style scoped>\n    .dataframe tbody tr th:only-of-type {\n        vertical-align: middle;\n    }\n\n    .dataframe tbody tr th {\n        vertical-align: top;\n    }\n\n    .dataframe thead th {\n        text-align: right;\n    }\n</style>\n<table border=\"1\" class=\"dataframe\">\n  <thead>\n    <tr style=\"text-align: right;\">\n      <th></th>\n      <th>ID_AEROPUERTO</th>\n      <th>NOMBRE_AEROPUERTO</th>\n    </tr>\n  </thead>\n  <tbody>\n    <tr>\n      <th>0</th>\n      <td>1</td>\n      <td>Benito Juarez</td>\n    </tr>\n    <tr>\n      <th>1</th>\n      <td>2</td>\n      <td>Guanajuato</td>\n    </tr>\n    <tr>\n      <th>2</th>\n      <td>3</td>\n      <td>La paz</td>\n    </tr>\n    <tr>\n      <th>3</th>\n      <td>4</td>\n      <td>Oaxaca</td>\n    </tr>\n  </tbody>\n</table>\n</div>"
     },
     "execution_count": 50,
     "metadata": {},
     "output_type": "execute_result"
    }
   ],
   "source": [
    "tabla_de_aeropuertos"
   ],
   "metadata": {
    "collapsed": false,
    "pycharm": {
     "name": "#%%\n"
    }
   }
  },
  {
   "cell_type": "code",
   "execution_count": 51,
   "outputs": [
    {
     "data": {
      "text/plain": "   ID_MOVIMIENTO DESCRIPCION\n0              1      Salida\n1              2     Llegada",
      "text/html": "<div>\n<style scoped>\n    .dataframe tbody tr th:only-of-type {\n        vertical-align: middle;\n    }\n\n    .dataframe tbody tr th {\n        vertical-align: top;\n    }\n\n    .dataframe thead th {\n        text-align: right;\n    }\n</style>\n<table border=\"1\" class=\"dataframe\">\n  <thead>\n    <tr style=\"text-align: right;\">\n      <th></th>\n      <th>ID_MOVIMIENTO</th>\n      <th>DESCRIPCION</th>\n    </tr>\n  </thead>\n  <tbody>\n    <tr>\n      <th>0</th>\n      <td>1</td>\n      <td>Salida</td>\n    </tr>\n    <tr>\n      <th>1</th>\n      <td>2</td>\n      <td>Llegada</td>\n    </tr>\n  </tbody>\n</table>\n</div>"
     },
     "execution_count": 51,
     "metadata": {},
     "output_type": "execute_result"
    }
   ],
   "source": [
    "tabla_de_movimientos"
   ],
   "metadata": {
    "collapsed": false,
    "pycharm": {
     "name": "#%%\n"
    }
   }
  },
  {
   "cell_type": "code",
   "execution_count": 52,
   "outputs": [
    {
     "data": {
      "text/plain": "   ID_AEROLINEA  ID_AEROPUERTO  ID_MOVIMIENTO         DIA\n0             1              1              1  2021-05-02\n1             2              1              1  2021-05-02\n2             3              2              2  2021-05-02\n3             4              3              2  2021-05-02\n4             1              3              2  2021-05-02\n5             2              1              1  2021-05-02\n6             2              3              1  2021-05-04\n7             3              4              1  2021-05-04\n8             3              4              1  2021-05-04",
      "text/html": "<div>\n<style scoped>\n    .dataframe tbody tr th:only-of-type {\n        vertical-align: middle;\n    }\n\n    .dataframe tbody tr th {\n        vertical-align: top;\n    }\n\n    .dataframe thead th {\n        text-align: right;\n    }\n</style>\n<table border=\"1\" class=\"dataframe\">\n  <thead>\n    <tr style=\"text-align: right;\">\n      <th></th>\n      <th>ID_AEROLINEA</th>\n      <th>ID_AEROPUERTO</th>\n      <th>ID_MOVIMIENTO</th>\n      <th>DIA</th>\n    </tr>\n  </thead>\n  <tbody>\n    <tr>\n      <th>0</th>\n      <td>1</td>\n      <td>1</td>\n      <td>1</td>\n      <td>2021-05-02</td>\n    </tr>\n    <tr>\n      <th>1</th>\n      <td>2</td>\n      <td>1</td>\n      <td>1</td>\n      <td>2021-05-02</td>\n    </tr>\n    <tr>\n      <th>2</th>\n      <td>3</td>\n      <td>2</td>\n      <td>2</td>\n      <td>2021-05-02</td>\n    </tr>\n    <tr>\n      <th>3</th>\n      <td>4</td>\n      <td>3</td>\n      <td>2</td>\n      <td>2021-05-02</td>\n    </tr>\n    <tr>\n      <th>4</th>\n      <td>1</td>\n      <td>3</td>\n      <td>2</td>\n      <td>2021-05-02</td>\n    </tr>\n    <tr>\n      <th>5</th>\n      <td>2</td>\n      <td>1</td>\n      <td>1</td>\n      <td>2021-05-02</td>\n    </tr>\n    <tr>\n      <th>6</th>\n      <td>2</td>\n      <td>3</td>\n      <td>1</td>\n      <td>2021-05-04</td>\n    </tr>\n    <tr>\n      <th>7</th>\n      <td>3</td>\n      <td>4</td>\n      <td>1</td>\n      <td>2021-05-04</td>\n    </tr>\n    <tr>\n      <th>8</th>\n      <td>3</td>\n      <td>4</td>\n      <td>1</td>\n      <td>2021-05-04</td>\n    </tr>\n  </tbody>\n</table>\n</div>"
     },
     "execution_count": 52,
     "metadata": {},
     "output_type": "execute_result"
    }
   ],
   "source": [
    "tabla_de_vuelos"
   ],
   "metadata": {
    "collapsed": false,
    "pycharm": {
     "name": "#%%\n"
    }
   }
  },
  {
   "cell_type": "markdown",
   "source": [
    "# Se requiere saber lo siguiente\n",
    "1. ¿Cuál es el nombre aeropuerto que ha tenido mayor movimiento durante el año?\n",
    "2. ¿Cuál es el nombre aerolínea que ha realizado mayor número de vuelos durante\n",
    "el año?\n",
    "3. ¿En qué día se han tenido mayor número de vuelos?\n",
    "4. ¿Cuáles son las aerolíneas que tienen más de 2 vuelos por día?"
   ],
   "metadata": {
    "collapsed": false,
    "pycharm": {
     "name": "#%% md\n"
    }
   }
  },
  {
   "cell_type": "markdown",
   "source": [
    "# 1. ¿Cuál es el nombre aeropuerto que ha tenido mayor movimiento durante el año?"
   ],
   "metadata": {
    "collapsed": false,
    "pycharm": {
     "name": "#%% md\n"
    }
   }
  },
  {
   "cell_type": "code",
   "execution_count": 85,
   "outputs": [
    {
     "data": {
      "text/plain": "   MOVIMIENTOS NOMBRE_AEROPUERTO\n0            3     Benito Juarez\n1            1        Guanajuato\n2            3            La paz\n3            2            Oaxaca",
      "text/html": "<div>\n<style scoped>\n    .dataframe tbody tr th:only-of-type {\n        vertical-align: middle;\n    }\n\n    .dataframe tbody tr th {\n        vertical-align: top;\n    }\n\n    .dataframe thead th {\n        text-align: right;\n    }\n</style>\n<table border=\"1\" class=\"dataframe\">\n  <thead>\n    <tr style=\"text-align: right;\">\n      <th></th>\n      <th>MOVIMIENTOS</th>\n      <th>NOMBRE_AEROPUERTO</th>\n    </tr>\n  </thead>\n  <tbody>\n    <tr>\n      <th>0</th>\n      <td>3</td>\n      <td>Benito Juarez</td>\n    </tr>\n    <tr>\n      <th>1</th>\n      <td>1</td>\n      <td>Guanajuato</td>\n    </tr>\n    <tr>\n      <th>2</th>\n      <td>3</td>\n      <td>La paz</td>\n    </tr>\n    <tr>\n      <th>3</th>\n      <td>2</td>\n      <td>Oaxaca</td>\n    </tr>\n  </tbody>\n</table>\n</div>"
     },
     "execution_count": 85,
     "metadata": {},
     "output_type": "execute_result"
    }
   ],
   "source": [
    "pd.read_sql('''\n",
    "SELECT count(*) as MOVIMIENTOS, NOMBRE_AEROPUERTO FROM vuelos v LEFT JOIN aeropuertos a ON v.ID_AEROPUERTO = a.ID_AEROPUERTO GROUP BY NOMBRE_AEROPUERTO\n",
    "''', conn)"
   ],
   "metadata": {
    "collapsed": false,
    "pycharm": {
     "name": "#%%\n"
    }
   }
  },
  {
   "cell_type": "code",
   "execution_count": 61,
   "outputs": [
    {
     "data": {
      "text/plain": "{'MOVIMIENTOS': 3, 'NOMBRE_AEROPUERTO': 'Benito Juarez'}"
     },
     "execution_count": 61,
     "metadata": {},
     "output_type": "execute_result"
    }
   ],
   "source": [
    "# Respuesta\n",
    "pd.read_sql('''\n",
    "SELECT MAX(MOVIMIENTOS) as MOVIMIENTOS, NOMBRE_AEROPUERTO from\n",
    "\n",
    "(SELECT count(*) as MOVIMIENTOS, NOMBRE_AEROPUERTO FROM vuelos v LEFT JOIN aeropuertos a ON v.ID_AEROPUERTO = a.ID_AEROPUERTO GROUP BY NOMBRE_AEROPUERTO)\n",
    "\n",
    "''', conn).to_dict('records')[0]"
   ],
   "metadata": {
    "collapsed": false,
    "pycharm": {
     "name": "#%%\n"
    }
   }
  },
  {
   "cell_type": "markdown",
   "source": [
    "# 2. ¿Cuál es el nombre aerolínea que ha realizado mayor número de vuelos durante el año?"
   ],
   "metadata": {
    "collapsed": false,
    "pycharm": {
     "name": "#%% md\n"
    }
   }
  },
  {
   "cell_type": "code",
   "execution_count": 62,
   "outputs": [
    {
     "data": {
      "text/plain": "   VUELOS NOMBRE_AEROLINEA\n0       3          Aeromar\n1       1       Aeromexico\n2       3         Interjet\n3       2          Volaris",
      "text/html": "<div>\n<style scoped>\n    .dataframe tbody tr th:only-of-type {\n        vertical-align: middle;\n    }\n\n    .dataframe tbody tr th {\n        vertical-align: top;\n    }\n\n    .dataframe thead th {\n        text-align: right;\n    }\n</style>\n<table border=\"1\" class=\"dataframe\">\n  <thead>\n    <tr style=\"text-align: right;\">\n      <th></th>\n      <th>VUELOS</th>\n      <th>NOMBRE_AEROLINEA</th>\n    </tr>\n  </thead>\n  <tbody>\n    <tr>\n      <th>0</th>\n      <td>3</td>\n      <td>Aeromar</td>\n    </tr>\n    <tr>\n      <th>1</th>\n      <td>1</td>\n      <td>Aeromexico</td>\n    </tr>\n    <tr>\n      <th>2</th>\n      <td>3</td>\n      <td>Interjet</td>\n    </tr>\n    <tr>\n      <th>3</th>\n      <td>2</td>\n      <td>Volaris</td>\n    </tr>\n  </tbody>\n</table>\n</div>"
     },
     "execution_count": 62,
     "metadata": {},
     "output_type": "execute_result"
    }
   ],
   "source": [
    "pd.read_sql('''\n",
    "\n",
    "SELECT count(*) as VUELOS, NOMBRE_AEROLINEA FROM vuelos v LEFT JOIN aerolineas a ON v.ID_AEROLINEA = a.ID_AEROLINEA GROUP BY NOMBRE_AEROLINEA\n",
    "\n",
    "''', conn)"
   ],
   "metadata": {
    "collapsed": false,
    "pycharm": {
     "name": "#%%\n"
    }
   }
  },
  {
   "cell_type": "code",
   "execution_count": 66,
   "outputs": [
    {
     "data": {
      "text/plain": "{'VUELOS': 3, 'NOMBRE_AEROLINEA': 'Aeromar'}"
     },
     "execution_count": 66,
     "metadata": {},
     "output_type": "execute_result"
    }
   ],
   "source": [
    "# Respuesta\n",
    "pd.read_sql('''\n",
    "SELECT MAX(VUELOS) as VUELOS, NOMBRE_AEROLINEA from\n",
    "\n",
    "(SELECT count(*) as VUELOS, NOMBRE_AEROLINEA FROM vuelos v LEFT JOIN aerolineas a ON v.ID_AEROLINEA = a.ID_AEROLINEA GROUP BY NOMBRE_AEROLINEA)\n",
    "\n",
    "''', conn).to_dict('records')[0]"
   ],
   "metadata": {
    "collapsed": false,
    "pycharm": {
     "name": "#%%\n"
    }
   }
  },
  {
   "cell_type": "markdown",
   "source": [
    "# 3. ¿En qué día se han tenido mayor número de vuelos?"
   ],
   "metadata": {
    "collapsed": false,
    "pycharm": {
     "name": "#%% md\n"
    }
   }
  },
  {
   "cell_type": "code",
   "execution_count": 77,
   "outputs": [
    {
     "data": {
      "text/plain": "   VUELOS         DIA\n0       6  2021-05-02\n1       3  2021-05-04",
      "text/html": "<div>\n<style scoped>\n    .dataframe tbody tr th:only-of-type {\n        vertical-align: middle;\n    }\n\n    .dataframe tbody tr th {\n        vertical-align: top;\n    }\n\n    .dataframe thead th {\n        text-align: right;\n    }\n</style>\n<table border=\"1\" class=\"dataframe\">\n  <thead>\n    <tr style=\"text-align: right;\">\n      <th></th>\n      <th>VUELOS</th>\n      <th>DIA</th>\n    </tr>\n  </thead>\n  <tbody>\n    <tr>\n      <th>0</th>\n      <td>6</td>\n      <td>2021-05-02</td>\n    </tr>\n    <tr>\n      <th>1</th>\n      <td>3</td>\n      <td>2021-05-04</td>\n    </tr>\n  </tbody>\n</table>\n</div>"
     },
     "execution_count": 77,
     "metadata": {},
     "output_type": "execute_result"
    }
   ],
   "source": [
    "# Respuesta\n",
    "pd.read_sql('''\n",
    "SELECT count(DIA) as VUELOS, DIA FROM vuelos GROUP BY DIA\n",
    "''', conn)"
   ],
   "metadata": {
    "collapsed": false,
    "pycharm": {
     "name": "#%%\n"
    }
   }
  },
  {
   "cell_type": "markdown",
   "source": [
    "# 4. ¿Cuáles son las aerolíneas que tienen más de 2 vuelos por día?"
   ],
   "metadata": {
    "collapsed": false,
    "pycharm": {
     "name": "#%% md\n"
    }
   }
  },
  {
   "cell_type": "code",
   "execution_count": 79,
   "outputs": [
    {
     "data": {
      "text/plain": "   VUELOS NOMBRE_AEROLINEA\n0       3          Aeromar\n1       1       Aeromexico\n2       3         Interjet\n3       2          Volaris",
      "text/html": "<div>\n<style scoped>\n    .dataframe tbody tr th:only-of-type {\n        vertical-align: middle;\n    }\n\n    .dataframe tbody tr th {\n        vertical-align: top;\n    }\n\n    .dataframe thead th {\n        text-align: right;\n    }\n</style>\n<table border=\"1\" class=\"dataframe\">\n  <thead>\n    <tr style=\"text-align: right;\">\n      <th></th>\n      <th>VUELOS</th>\n      <th>NOMBRE_AEROLINEA</th>\n    </tr>\n  </thead>\n  <tbody>\n    <tr>\n      <th>0</th>\n      <td>3</td>\n      <td>Aeromar</td>\n    </tr>\n    <tr>\n      <th>1</th>\n      <td>1</td>\n      <td>Aeromexico</td>\n    </tr>\n    <tr>\n      <th>2</th>\n      <td>3</td>\n      <td>Interjet</td>\n    </tr>\n    <tr>\n      <th>3</th>\n      <td>2</td>\n      <td>Volaris</td>\n    </tr>\n  </tbody>\n</table>\n</div>"
     },
     "execution_count": 79,
     "metadata": {},
     "output_type": "execute_result"
    }
   ],
   "source": [
    "# (estoy reusando el código de la pregunta 2)\n",
    "pd.read_sql('''\n",
    "SELECT count(*) as VUELOS, NOMBRE_AEROLINEA FROM vuelos v LEFT JOIN aerolineas a ON v.ID_AEROLINEA = a.ID_AEROLINEA GROUP BY NOMBRE_AEROLINEA\n",
    "''', conn)"
   ],
   "metadata": {
    "collapsed": false,
    "pycharm": {
     "name": "#%%\n"
    }
   }
  },
  {
   "cell_type": "code",
   "execution_count": 84,
   "outputs": [
    {
     "data": {
      "text/plain": "   VUELOS NOMBRE_AEROLINEA\n0       3          Aeromar\n1       3         Interjet",
      "text/html": "<div>\n<style scoped>\n    .dataframe tbody tr th:only-of-type {\n        vertical-align: middle;\n    }\n\n    .dataframe tbody tr th {\n        vertical-align: top;\n    }\n\n    .dataframe thead th {\n        text-align: right;\n    }\n</style>\n<table border=\"1\" class=\"dataframe\">\n  <thead>\n    <tr style=\"text-align: right;\">\n      <th></th>\n      <th>VUELOS</th>\n      <th>NOMBRE_AEROLINEA</th>\n    </tr>\n  </thead>\n  <tbody>\n    <tr>\n      <th>0</th>\n      <td>3</td>\n      <td>Aeromar</td>\n    </tr>\n    <tr>\n      <th>1</th>\n      <td>3</td>\n      <td>Interjet</td>\n    </tr>\n  </tbody>\n</table>\n</div>"
     },
     "execution_count": 84,
     "metadata": {},
     "output_type": "execute_result"
    }
   ],
   "source": [
    "# Respuesta\n",
    "pd.read_sql('''\n",
    "SELECT VUELOS, NOMBRE_AEROLINEA from\n",
    "\n",
    "(SELECT count(*) as VUELOS, NOMBRE_AEROLINEA FROM vuelos v LEFT JOIN aerolineas a ON v.ID_AEROLINEA = a.ID_AEROLINEA GROUP BY NOMBRE_AEROLINEA)\n",
    "\n",
    "WHERE VUELOS > 2\n",
    "''', conn)"
   ],
   "metadata": {
    "collapsed": false,
    "pycharm": {
     "name": "#%%\n"
    }
   }
  }
 ],
 "metadata": {
  "kernelspec": {
   "display_name": "Python 3",
   "language": "python",
   "name": "python3"
  },
  "language_info": {
   "codemirror_mode": {
    "name": "ipython",
    "version": 2
   },
   "file_extension": ".py",
   "mimetype": "text/x-python",
   "name": "python",
   "nbconvert_exporter": "python",
   "pygments_lexer": "ipython2",
   "version": "2.7.6"
  }
 },
 "nbformat": 4,
 "nbformat_minor": 0
}